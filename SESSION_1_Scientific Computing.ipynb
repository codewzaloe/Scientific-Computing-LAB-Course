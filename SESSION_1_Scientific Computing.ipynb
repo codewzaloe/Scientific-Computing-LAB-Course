{
  "nbformat": 4,
  "nbformat_minor": 0,
  "metadata": {
    "colab": {
      "provenance": []
    },
    "kernelspec": {
      "name": "python3",
      "display_name": "Python 3"
    },
    "language_info": {
      "name": "python"
    }
  },
  "cells": [
    {
      "cell_type": "code",
      "execution_count": null,
      "metadata": {
        "id": "IegqIeMV7yHx"
      },
      "outputs": [],
      "source": [
        "import time\n",
        "print(time.ctime())"
      ]
    },
    {
      "cell_type": "code",
      "source": [
        "x = 1\n",
        "x\n",
        "y = 2\n",
        "y"
      ],
      "metadata": {
        "id": "dLWqGQjh8Pbj"
      },
      "execution_count": null,
      "outputs": []
    },
    {
      "cell_type": "code",
      "source": [
        "x = 1 \n",
        "x = x+1\n",
        "x"
      ],
      "metadata": {
        "id": "cjsazL4s95NS"
      },
      "execution_count": null,
      "outputs": []
    },
    {
      "cell_type": "code",
      "source": [
        "import numpy as np\n",
        "x = np.array([1 ,4 ,3])\n",
        "x"
      ],
      "metadata": {
        "id": "3C6e79hh_H4N"
      },
      "execution_count": null,
      "outputs": []
    },
    {
      "cell_type": "code",
      "source": [
        "import numpy as np\n",
        "y = np.array([[1 ,4 ,3], [9, 2, 7]])\n",
        "y"
      ],
      "metadata": {
        "id": "Ntvc-tBA_Vmw"
      },
      "execution_count": null,
      "outputs": []
    },
    {
      "cell_type": "code",
      "source": [
        "newdef my_adder(a, b, c):\n",
        "  \n",
        "  \"\"\"\n",
        "  [DESCRIPTIVE STRING]\n",
        "  function to sum the 3 numbers\n",
        "  Input: 3 number of a, b, c\n",
        "  Output: the sum of a, b, c\n",
        "  author: sekar\n",
        "  date: thursday, 16/02/2021\n",
        "  \"\"\"\n",
        "\n",
        "  out = a + b + c\n",
        "  return out"
      ],
      "metadata": {
        "id": "lLEHehfq_1B8"
      },
      "execution_count": null,
      "outputs": []
    },
    {
      "cell_type": "code",
      "source": [
        "my_adder(1,2,3)"
      ],
      "metadata": {
        "colab": {
          "base_uri": "https://localhost:8080/"
        },
        "id": "tNMdqrx6BN8o",
        "outputId": "0a4bc62b-5662-4e38-fbde-3ce081829b22"
      },
      "execution_count": null,
      "outputs": [
        {
          "output_type": "execute_result",
          "data": {
            "text/plain": [
              "6"
            ]
          },
          "metadata": {},
          "execution_count": 18
        }
      ]
    },
    {
      "cell_type": "code",
      "source": [
        "def my_thermo_stat(temp, desired_temp):\n",
        "  if temp < desired_temp - 5:\n",
        "    status = 'Heat'\n",
        "  elif temp > desired_temp + 5:\n",
        "    status = 'AC'\n",
        "  else:\n",
        "    status  = 'off'\n",
        "  return status\n"
      ],
      "metadata": {
        "id": "kH9I1eb9DPkQ"
      },
      "execution_count": null,
      "outputs": []
    },
    {
      "cell_type": "code",
      "source": [
        "status = my_thermo_stat(65,75)\n",
        "print(status)"
      ],
      "metadata": {
        "colab": {
          "base_uri": "https://localhost:8080/"
        },
        "id": "XBY34UBcDsMI",
        "outputId": "d9d322cb-ea3b-496e-a22e-ef5ef3601dae"
      },
      "execution_count": null,
      "outputs": [
        {
          "output_type": "stream",
          "name": "stdout",
          "text": [
            "Heat\n"
          ]
        }
      ]
    },
    {
      "cell_type": "code",
      "source": [
        "status = my_thermo_stat(75,65)\n",
        "print(status)"
      ],
      "metadata": {
        "colab": {
          "base_uri": "https://localhost:8080/"
        },
        "id": "ZRxE09FzDzSe",
        "outputId": "a27c0409-334b-422f-eba3-f0c8d44f0913"
      },
      "execution_count": null,
      "outputs": [
        {
          "output_type": "stream",
          "name": "stdout",
          "text": [
            "AC\n"
          ]
        }
      ]
    },
    {
      "cell_type": "code",
      "source": [
        "status = my_thermo_stat(65,63)\n",
        "print(status)"
      ],
      "metadata": {
        "colab": {
          "base_uri": "https://localhost:8080/"
        },
        "id": "WHa5Pl8KD79e",
        "outputId": "08dc14db-0bb9-4921-9fe7-e27a924aaea1"
      },
      "execution_count": null,
      "outputs": [
        {
          "output_type": "stream",
          "name": "stdout",
          "text": [
            "off\n"
          ]
        }
      ]
    },
    {
      "cell_type": "code",
      "source": [],
      "metadata": {
        "id": "BpYu7t97Au_q"
      },
      "execution_count": null,
      "outputs": []
    },
    {
      "cell_type": "code",
      "source": [
        "x = 3\n",
        "if x>1 and x<2:\n",
        "  y = 2\n",
        "elif x>2 and x<4:\n",
        "  y = 4\n",
        "else:\n",
        "  y = 0\n",
        "print(y)"
      ],
      "metadata": {
        "colab": {
          "base_uri": "https://localhost:8080/"
        },
        "id": "Nth-iubEFV9U",
        "outputId": "66ac32c2-bff2-4ca8-83fb-ea40d706bbad"
      },
      "execution_count": null,
      "outputs": [
        {
          "output_type": "stream",
          "name": "stdout",
          "text": [
            "4\n"
          ]
        }
      ]
    },
    {
      "cell_type": "code",
      "source": [
        "import numpy as np\n",
        "a = [[ 8, 3, -3], [-2, -8, 5], [3, 5, 10]]\n",
        "\n",
        "#find diagonal coefficients\n",
        "diag = np.diag(np.abs(a))\n",
        "\n",
        "#find row sum without diagonal\n",
        "off_diag = np.sum(np.abs(a), axis = 1) - diag\n",
        "\n",
        "if np.all(diag > off_diag):\n",
        "  print('matrix is diagonally dominant')\n",
        "else: \n",
        "  print('NOT diagonally dominant')\n",
        "\n"
      ],
      "metadata": {
        "colab": {
          "base_uri": "https://localhost:8080/"
        },
        "id": "z37tH1hiA1fb",
        "outputId": "d3d959c3-c772-4ae9-b6fe-4d94f4dd4825"
      },
      "execution_count": null,
      "outputs": [
        {
          "output_type": "stream",
          "name": "stdout",
          "text": [
            "matrix is diagonally dominant\n"
          ]
        }
      ]
    },
    {
      "cell_type": "code",
      "source": [
        "x1 = 0\n",
        "x2 = 0\n",
        "x3 = 0\n",
        "epsilon = 0.01\n",
        "converged = False\n",
        "x_old = np.array([x1, x2, x3])"
      ],
      "metadata": {
        "id": "SskqqRsnDJPw"
      },
      "execution_count": null,
      "outputs": []
    },
    {
      "cell_type": "code",
      "source": [
        "print('Iteration result')\n",
        "print(' k, x1, x2, x3')\n",
        "for k in range (1, 50):\n",
        "  x1 = (14-3*x2+3*x3)/8\n",
        "  x2 = (5+2*x1-5*x3)/(-8)\n",
        "  x3 = (-8-3*x1-5*x2)/10\n",
        "  x = np.array([x1 ,x2, x3]) \n",
        "  #check if it is smaller than threshold\n",
        "  dx = np.sqrt(np.dot(x-x_old, x-x_old))\n",
        "\n",
        "  print(\"%d, %.4f, %.4f, %.4f\"%(k, x1, x2, x3))\n",
        "  if dx < epsilon:\n",
        "    converged = True\n",
        "    print('Converged!')\n",
        "    break\n",
        "\n",
        "  #assign the latest x value o the old value\n",
        "  x_old = x\n",
        "\n",
        "  if not converged:\n",
        "    print('Not converged, increase the # of the iterations')"
      ],
      "metadata": {
        "colab": {
          "base_uri": "https://localhost:8080/"
        },
        "id": "WmtNc7x8EBaW",
        "outputId": "ce13b733-4e2d-41a2-b713-b606f954c16a"
      },
      "execution_count": null,
      "outputs": [
        {
          "output_type": "stream",
          "name": "stdout",
          "text": [
            "Iteration result\n",
            " k, x1, x2, x3\n",
            "1, 1.7500, -1.0625, -0.7937\n",
            "Not converged, increase the # of the iterations\n",
            "2, 1.8508, -1.5838, -0.5633\n",
            "Not converged, increase the # of the iterations\n",
            "3, 2.1327, -1.5103, -0.6847\n",
            "Not converged, increase the # of the iterations\n",
            "4, 2.0596, -1.5678, -0.6340\n",
            "Not converged, increase the # of the iterations\n",
            "5, 2.1002, -1.5463, -0.6569\n",
            "Not converged, increase the # of the iterations\n",
            "6, 2.0835, -1.5565, -0.6468\n",
            "Not converged, increase the # of the iterations\n",
            "7, 2.0911, -1.5520, -0.6513\n",
            "Converged!\n"
          ]
        }
      ]
    },
    {
      "cell_type": "code",
      "source": [
        "import numpy as np\n",
        "\n",
        "A = np.array([[4, 3, -5],\n",
        "              [-2, -4, 5],\n",
        "              [8, 8, 0]])\n",
        "y = np.array([2, 5, -3])\n",
        "\n",
        "x = np.linalg.solve(A, y)\n",
        "print(x)"
      ],
      "metadata": {
        "id": "88_nM2yES7H5"
      },
      "execution_count": null,
      "outputs": []
    },
    {
      "cell_type": "code",
      "source": [
        "A_inv = np.linalg.inv(A)\n",
        "\n",
        "x = np.dot(A_inv, y)\n",
        "print(x)"
      ],
      "metadata": {
        "id": "Vs3ecLG3S_5I"
      },
      "execution_count": null,
      "outputs": []
    }
  ]
}